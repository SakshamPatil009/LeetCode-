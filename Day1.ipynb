{
  "nbformat": 4,
  "nbformat_minor": 0,
  "metadata": {
    "colab": {
      "provenance": [],
      "authorship_tag": "ABX9TyNGPrNLj+WtGKy+AGEmIuDV",
      "include_colab_link": true
    },
    "kernelspec": {
      "name": "python3",
      "display_name": "Python 3"
    },
    "language_info": {
      "name": "python"
    }
  },
  "cells": [
    {
      "cell_type": "markdown",
      "metadata": {
        "id": "view-in-github",
        "colab_type": "text"
      },
      "source": [
        "<a href=\"https://colab.research.google.com/github/SakshamPatil009/LeetCode-/blob/main/Day1.ipynb\" target=\"_parent\"><img src=\"https://colab.research.google.com/assets/colab-badge.svg\" alt=\"Open In Colab\"/></a>"
      ]
    },
    {
      "cell_type": "code",
      "execution_count": 8,
      "metadata": {
        "colab": {
          "base_uri": "https://localhost:8080/"
        },
        "id": "Nc5b3FFk13nw",
        "outputId": "80edeb89-ecfb-411f-da89-db75ff230c57"
      },
      "outputs": [
        {
          "output_type": "stream",
          "name": "stdout",
          "text": [
            "True\n"
          ]
        }
      ],
      "source": [
        "def is_valid(s):\n",
        "    stack = []\n",
        "    mapping = {\")\": \"(\", \"]\": \"[\", \"}\": \"{\"}\n",
        "\n",
        "    for char in s:\n",
        "        if char in mapping.values():\n",
        "            stack.append(char)\n",
        "        elif char in mapping:\n",
        "            if not stack or mapping[char] != stack.pop():\n",
        "                return False\n",
        "\n",
        "    return not stack\n",
        "print(is_valid(\"()[]{}\"))"
      ]
    }
  ]
}